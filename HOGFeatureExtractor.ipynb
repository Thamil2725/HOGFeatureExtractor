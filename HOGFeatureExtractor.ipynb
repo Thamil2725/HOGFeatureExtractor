{
  "cells": [
    {
      "cell_type": "markdown",
      "metadata": {
        "id": "view-in-github",
        "colab_type": "text"
      },
      "source": [
        "<a href=\"https://colab.research.google.com/github/Thamil2725/HOGFeatureExtractor/blob/main/HOGFeatureExtractor.ipynb\" target=\"_parent\"><img src=\"https://colab.research.google.com/assets/colab-badge.svg\" alt=\"Open In Colab\"/></a>"
      ]
    },
    {
      "cell_type": "markdown",
      "metadata": {
        "id": "jYbac-6E8dko"
      },
      "source": [
        "## Importing Libraries"
      ]
    },
    {
      "cell_type": "code",
      "execution_count": null,
      "metadata": {
        "id": "SwkZn2GH2Wbb"
      },
      "outputs": [],
      "source": [
        "import os\n",
        "import zipfile\n",
        "import numpy as np\n",
        "import pandas as pd\n",
        "import cv2\n",
        "import matplotlib.pyplot as plt\n",
        "import tensorflow as tf\n",
        "\n",
        "from tqdm import tqdm\n",
        "from sklearn.datasets import fetch_openml\n",
        "from sklearn.model_selection import train_test_split\n",
        "from sklearn.metrics import accuracy_score, classification_report\n",
        "from sklearn.ensemble import RandomForestClassifier\n",
        "from xgboost import XGBClassifier\n",
        "from sklearn.svm import SVC"
      ]
    },
    {
      "cell_type": "markdown",
      "metadata": {
        "id": "B_VWCBzw8mD1"
      },
      "source": [
        "## Connecting with the Drive"
      ]
    },
    {
      "cell_type": "code",
      "execution_count": null,
      "metadata": {
        "colab": {
          "base_uri": "https://localhost:8080/"
        },
        "id": "qVNb2vg38Q1K",
        "outputId": "7b165d9e-b89a-4312-9fd9-b4ff19ba7ee4"
      },
      "outputs": [
        {
          "name": "stdout",
          "output_type": "stream",
          "text": [
            "Mounted at /content/drive\n"
          ]
        }
      ],
      "source": [
        "from google.colab import drive\n",
        "drive.mount('/content/drive')"
      ]
    },
    {
      "cell_type": "markdown",
      "metadata": {
        "id": "zSblni5S8r_v"
      },
      "source": [
        "## Edge Detector"
      ]
    },
    {
      "cell_type": "code",
      "execution_count": null,
      "metadata": {
        "id": "D021lZXk2ZjA"
      },
      "outputs": [],
      "source": [
        "def Robert_cross_edge_detector(image):\n",
        "\n",
        "    Gx_kernel = np.array([[1, 0],\n",
        "                          [0, -1]])\n",
        "    Gy_kernel = np.array([[0, 1],\n",
        "                          [-1, 0]])\n",
        "\n",
        "    Gx = cv2.filter2D(image, -1, Gx_kernel)\n",
        "    Gy = cv2.filter2D(image, -1, Gy_kernel)\n",
        "\n",
        "    mag_of_G = np.sqrt(Gx**2 + Gy**2)\n",
        "    direc_of_G = np.arctan2(Gy, Gx)\n",
        "\n",
        "    return mag_of_G, direc_of_G"
      ]
    },
    {
      "cell_type": "markdown",
      "metadata": {
        "id": "rGXlQros8vE2"
      },
      "source": [
        "## HOG Function"
      ]
    },
    {
      "cell_type": "code",
      "execution_count": null,
      "metadata": {
        "id": "kMzJWmxr2emw"
      },
      "outputs": [],
      "source": [
        "def Compute_HOG_Vector(image, block_size=2, no_of_bins=8):\n",
        "\n",
        "    mag_of_G, direc_of_G = Robert_cross_edge_detector(image)\n",
        "\n",
        "    Rows, Columns = image.shape\n",
        "    hist = np.zeros((Rows, Columns, no_of_bins))\n",
        "    bin_width = 360 / no_of_bins\n",
        "\n",
        "    # Convert direction to degrees in [0, 360)\n",
        "    angle_deg = (np.degrees(direc_of_G) + 360) % 360\n",
        "\n",
        "    for i in range(Rows):\n",
        "        for j in range(Columns):\n",
        "            bin_idx = int(angle_deg[i, j] / bin_width) % no_of_bins\n",
        "            bin_idx_next = (bin_idx + 1) % no_of_bins\n",
        "            bin_fraction = (angle_deg[i, j] % bin_width) / bin_width\n",
        "\n",
        "            hist[i, j, bin_idx_next] += mag_of_G[i, j] * bin_fraction\n",
        "            hist[i, j, bin_idx] += mag_of_G[i, j] * (1 - bin_fraction)\n",
        "\n",
        "    # Normalize blocks\n",
        "    hist_concatenated = np.zeros((Rows + 1 - block_size, Columns + 1 - block_size, no_of_bins * block_size * block_size))\n",
        "\n",
        "    for i in range(Rows + 1 - block_size):\n",
        "        for j in range(Columns + 1 - block_size):\n",
        "            b = 0\n",
        "            for k in range(block_size):\n",
        "                for l in range(block_size):\n",
        "                    for m in range(no_of_bins):\n",
        "                        hist_concatenated[i, j, b] = hist[i + k, j + l, m]\n",
        "                        b += 1\n",
        "\n",
        "    hist_normalized = np.zeros_like(hist_concatenated)\n",
        "\n",
        "    for i in range(hist_concatenated.shape[0]):\n",
        "        for j in range(hist_concatenated.shape[1]):\n",
        "            e = 1e-7\n",
        "            temp_sum_of_sqrs = np.sum(hist_concatenated[i, j, :] ** 2)\n",
        "            temp_bin = np.sqrt(temp_sum_of_sqrs + e)\n",
        "            hist_normalized[i, j, :] = hist_concatenated[i, j, :] / temp_bin\n",
        "\n",
        "    return hist_normalized.flatten()\n"
      ]
    },
    {
      "cell_type": "markdown",
      "metadata": {
        "id": "_rmEDg8c82C1"
      },
      "source": [
        "## Data Pre Processing"
      ]
    },
    {
      "cell_type": "code",
      "execution_count": null,
      "metadata": {
        "colab": {
          "base_uri": "https://localhost:8080/"
        },
        "id": "r09uQgH_3awg",
        "outputId": "c975b7e9-cb28-4c79-d317-ccaf33761562"
      },
      "outputs": [
        {
          "name": "stdout",
          "output_type": "stream",
          "text": [
            "Downloading data from https://storage.googleapis.com/tensorflow/tf-keras-datasets/mnist.npz\n",
            "\u001b[1m11490434/11490434\u001b[0m \u001b[32m━━━━━━━━━━━━━━━━━━━━\u001b[0m\u001b[37m\u001b[0m \u001b[1m0s\u001b[0m 0us/step\n"
          ]
        },
        {
          "name": "stderr",
          "output_type": "stream",
          "text": [
            "Extracting HOG features: 100%|██████████| 10000/10000 [04:11<00:00, 39.72it/s]\n"
          ]
        }
      ],
      "source": [
        "(x_raw, y_raw), _ = tf.keras.datasets.mnist.load_data()\n",
        "\n",
        "# Reduce dataset size\n",
        "x_raw = x_raw[:10000]\n",
        "y_raw = y_raw[:10000]\n",
        "\n",
        "x = []\n",
        "y = []\n",
        "\n",
        "# HOG extraction\n",
        "for img, label in tqdm(zip(x_raw, y_raw), total=len(x_raw), desc=\"Extracting HOG features\"):\n",
        "    features = Compute_HOG_Vector(img)\n",
        "    x.append(features)\n",
        "    y.append(label)\n",
        "\n",
        "x = np.array(x)\n",
        "y = np.array(y)\n",
        "\n",
        "x_train, x_test, y_train, y_test = train_test_split(x, y, test_size=0.2, random_state=0)"
      ]
    },
    {
      "cell_type": "markdown",
      "metadata": {
        "id": "qUuLo2hAOsOT"
      },
      "source": [
        "## Gradient Boost Classifier"
      ]
    },
    {
      "cell_type": "code",
      "execution_count": null,
      "metadata": {
        "colab": {
          "background_save": true,
          "base_uri": "https://localhost:8080/"
        },
        "id": "9GCPSfPg2g-G",
        "outputId": "86eef9c9-c171-4fe3-8b6f-3efd434663eb"
      },
      "outputs": [
        {
          "name": "stderr",
          "output_type": "stream",
          "text": [
            "/usr/local/lib/python3.11/dist-packages/xgboost/core.py:158: UserWarning: [04:08:33] WARNING: /workspace/src/learner.cc:740: \n",
            "Parameters: { \"use_label_encoder\" } are not used.\n",
            "\n",
            "  warnings.warn(smsg, UserWarning)\n"
          ]
        },
        {
          "name": "stdout",
          "output_type": "stream",
          "text": [
            "0.9285\n"
          ]
        }
      ],
      "source": [
        "classifier = XGBClassifier(\n",
        "    n_estimators=200,\n",
        "    max_depth=5,\n",
        "    learning_rate=0.1,\n",
        "    n_jobs=-1,\n",
        "    tree_method='hist',\n",
        "    use_label_encoder=False,\n",
        "    eval_metric='mlogloss',\n",
        "    random_state=0\n",
        ")\n",
        "\n",
        "classifier.fit(x_train, y_train)\n",
        "\n",
        "y_pred = classifier.predict(x_test)\n",
        "\n",
        "accuracy = accuracy_score(y_test, y_pred)\n",
        "print(accuracy)"
      ]
    },
    {
      "cell_type": "markdown",
      "metadata": {
        "id": "M36bJuSOO0CP"
      },
      "source": [
        "## Random Forest Classifier"
      ]
    },
    {
      "cell_type": "code",
      "execution_count": null,
      "metadata": {
        "colab": {
          "base_uri": "https://localhost:8080/"
        },
        "id": "NMaQBYL54sJc",
        "outputId": "adbc0f4b-4ecf-44c7-b7d4-8c20c6b6049f"
      },
      "outputs": [
        {
          "name": "stdout",
          "output_type": "stream",
          "text": [
            "0.914\n"
          ]
        }
      ],
      "source": [
        "classifier = RandomForestClassifier(n_estimators=250, random_state=0)\n",
        "classifier.fit(x_train, y_train)\n",
        "\n",
        "y_pred = classifier.predict(x_test)\n",
        "\n",
        "accuracy = accuracy_score(y_test, y_pred)\n",
        "print(accuracy)"
      ]
    },
    {
      "cell_type": "markdown",
      "metadata": {
        "id": "3ufOQwPwOF89"
      },
      "source": [
        "## SVM Classsifier"
      ]
    },
    {
      "cell_type": "code",
      "execution_count": null,
      "metadata": {
        "colab": {
          "base_uri": "https://localhost:8080/"
        },
        "id": "NEeUfJfFOJwf",
        "outputId": "9beced16-b35f-4551-a882-c2f3e074771c"
      },
      "outputs": [
        {
          "name": "stdout",
          "output_type": "stream",
          "text": [
            "0.9465\n"
          ]
        }
      ],
      "source": [
        "classifier = SVC(kernel='rbf', C=1.0, random_state=0)\n",
        "classifier.fit(x_train, y_train)\n",
        "\n",
        "y_pred = classifier.predict(x_test)\n",
        "\n",
        "accuracy = accuracy_score(y_test, y_pred)\n",
        "print(accuracy)"
      ]
    },
    {
      "cell_type": "markdown",
      "metadata": {
        "id": "GgK0Yh1O87fr"
      },
      "source": [
        "## Gradients Visualization"
      ]
    },
    {
      "cell_type": "code",
      "execution_count": null,
      "metadata": {
        "id": "qQB_oxyIYqp7"
      },
      "outputs": [],
      "source": [
        "import matplotlib.pyplot as plt\n",
        "\n",
        "def visualize_gradient_magnitude(mag):\n",
        "    plt.figure(figsize=(8, 8))\n",
        "    plt.imshow(mag, cmap='gray')\n",
        "    plt.title('Gradient Magnitude')\n",
        "    plt.colorbar()\n",
        "    plt.axis('off')\n",
        "    plt.show()"
      ]
    },
    {
      "cell_type": "code",
      "execution_count": null,
      "metadata": {
        "id": "mk38jWxPSJku"
      },
      "outputs": [],
      "source": [
        "import numpy as np\n",
        "import matplotlib.pyplot as plt\n",
        "\n",
        "def visualize_gradients_within_pixels(image, mag_of_G, direc_of_G):\n",
        "    rows, cols = image.shape\n",
        "\n",
        "    plt.figure(figsize=(8, 8))\n",
        "    plt.imshow(image, cmap='gray', alpha=0.7)\n",
        "\n",
        "    # Normalize magnitudes to fit within the pixel boundaries\n",
        "    max_mag = np.max(mag_of_G)\n",
        "    if max_mag > 0:\n",
        "        mag_of_G = mag_of_G / max_mag  # Normalize to [0, 1]\n",
        "\n",
        "    # Plot arrows for each pixel\n",
        "    for i in range(rows):\n",
        "        for j in range(cols):\n",
        "            dx = mag_of_G[i, j] * np.cos(direc_of_G[i, j]) * 0.5\n",
        "            dy = mag_of_G[i, j] * np.sin(direc_of_G[i, j]) * 0.5\n",
        "\n",
        "\n",
        "            plt.arrow(j, i, dx, dy, color='r', head_width=0.2, head_length=0.3, linewidth=0.4)\n",
        "\n",
        "    plt.title(\"Orientations\")\n",
        "    plt.axis('off')\n",
        "    plt.show()"
      ]
    },
    {
      "cell_type": "code",
      "execution_count": null,
      "metadata": {
        "colab": {
          "base_uri": "https://localhost:8080/",
          "height": 675
        },
        "id": "SeJp05u5ZFjt",
        "outputId": "8833c8a4-d4bb-495c-ad7a-50050b202f01"
      },
      "outputs": [
        {
          "data": {
            "image/png": "[encoded data removed]",
            "text/plain": [
              "<Figure size 800x800 with 1 Axes>"
            ]
          },
          "metadata": {},
          "output_type": "display_data"
        }
      ],
      "source": [
        "img = x_raw[7]\n",
        "\n",
        "mag, direc = Robert_cross_edge_detector(img)\n",
        "# visualize_gradient_magnitude(mag)\n",
        "visualize_gradients_within_pixels(img, mag, direc)"
      ]
    }
  ],
  "metadata": {
    "accelerator": "GPU",
    "colab": {
      "collapsed_sections": [
        "qUuLo2hAOsOT",
        "M36bJuSOO0CP"
      ],
      "gpuType": "T4",
      "provenance": [],
      "authorship_tag": "ABX9TyMI/bJ576xiqIi4+VFKywtL",
      "include_colab_link": true
    },
    "kernelspec": {
      "display_name": "Python 3",
      "name": "python3"
    },
    "language_info": {
      "name": "python"
    }
  },
  "nbformat": 4,
  "nbformat_minor": 0
}